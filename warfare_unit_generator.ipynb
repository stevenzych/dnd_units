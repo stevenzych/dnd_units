{
 "cells": [
  {
   "cell_type": "markdown",
   "metadata": {},
   "source": [
    "# Warfare Unit Generator\n",
    "\n",
    "## Introduction\n",
    "This generator takes in six values and creates combat-ready units. The values are:\n",
    "1. Size\n",
    "1. Attack\n",
    "1. Defense\n",
    "1. Range\n",
    "1. Magic\n",
    "1. Experience\n",
    "\n",
    "For each value, the generator requires a numerical input 1-5. Higher values mean better units and a higher price. Note that for magic, a value of zero is used for fully-martial units.\n",
    "\n",
    "## Meaning Of Stats\n",
    "\n",
    "Not all the stats are returned \"straight,\" per se. Some are modified by other stats before being returned in the final stat block. Theses modifications, as well as simple definitions, are as follows.\n",
    "\n",
    "Size `(siz)`: Determines a units health and is returned as common die. A unit of size 1 (1d4), can get hit 4 times in a battle, and then dies. Size multiplies total cost.\n",
    "\n",
    "Attack `(atk + exp)`: A modifier for d20 rolls made against opponents defense.\n",
    "\n",
    "Defense `(dfn + siz//2 + exp)`: Basically armor class. If an attack matches or exceeds a unit's defense, the unit takes 1 damage.\n",
    "\n",
    "Range `(rng * 30)`: How far a unit can attack (in feet). Each tile at this scale is 30 ft. on a side.\n",
    "\n",
    "Magic `(mag)`: A modifier for d20 rolls made against magic defense `(mag + dfn//2)`. Rolls that beat magic defense deal 1 damage. Very expensive stat.\n",
    "\n",
    "Experience `(exp)`: A more experienced unit attacks and defends better. Some special skills and features are only accessible to certain experience level units. Experience multiplies total cost.\n",
    "\n",
    "## How To Use\n",
    "To make a unit, run the function `new_unit(\"Example Name\")` with your desired unit name in the parentheses. Answer the input prompts. Receive a usable stat block.\n",
    "\n",
    "Enjoy! :)\n",
    "\n",
    "---"
   ]
  },
  {
   "cell_type": "code",
   "execution_count": 1,
   "metadata": {},
   "outputs": [],
   "source": [
    "import numpy as np\n",
    "import math"
   ]
  },
  {
   "cell_type": "code",
   "execution_count": 2,
   "metadata": {},
   "outputs": [],
   "source": [
    "def mt(i):\n",
    "    return math.trunc(i)"
   ]
  },
  {
   "cell_type": "code",
   "execution_count": 3,
   "metadata": {},
   "outputs": [],
   "source": [
    "def new_unit(name):\n",
    "# Create base objects\n",
    "    stat_list = ['Size', 'Attack', 'Defense', 'Range', 'Magic', 'Experience']\n",
    "    stats = list(np.zeros(len(stat_list)))\n",
    "    size_dict = {1: '1d4', 2: '1d6', 3: '1d8', 4: '1d10', 5: '1d12'}\n",
    "    exp_dict = {1: 'Green', 2: 'Regular', 3: 'Seasoned', 4: 'Veteran', 5: 'Elite'}\n",
    "    \n",
    "# Get user inputs\n",
    "    for i in range(len(stat_list)):\n",
    "        stats[i] += int(input(\"{}: \".format(stat_list[i])))\n",
    "    \n",
    "# Calculate unit stats\n",
    "    siz = size_dict[stats[0]]\n",
    "    atk = stats[1] + stats[5]\n",
    "    dfn = 10 + stats[2] + stats[0]//2 + stats[5]\n",
    "    rng = stats[3] * 30\n",
    "    mag = stats[4]\n",
    "    exp = exp_dict[stats[5]]\n",
    "    mdf = stats[4] + dfn//2\n",
    "    \n",
    "# Calculate cost\n",
    "    cost = 100 * (stats[1] + stats[2] + stats[3] + 3*stats[4]) * (stats[5]) * (stats[0])\n",
    "    \n",
    "# Return stat block\n",
    "    print(f'\\n'\n",
    "          f'\\n{exp} {name}:'\n",
    "          f'\\n================'\n",
    "          f'\\n Size:    {siz}'\n",
    "          f'\\n Attack:  +{mt(atk)}'\n",
    "          f'\\n Defense: {mt(dfn)}'\n",
    "          f'\\n Range:   {mt(rng)} ft.'\n",
    "          f'\\n Magic:   +{mt(mag)}'\n",
    "          f'\\n================'\n",
    "          f'\\n Cost:    {mt(cost)} GP')"
   ]
  },
  {
   "cell_type": "markdown",
   "metadata": {},
   "source": [
    "Here's a mighty-tough example unit."
   ]
  },
  {
   "cell_type": "code",
   "execution_count": 4,
   "metadata": {
    "scrolled": true
   },
   "outputs": [
    {
     "name": "stdout",
     "output_type": "stream",
     "text": [
      "Size: 2\n",
      "Attack: 4\n",
      "Defense: 3\n",
      "Range: 1\n",
      "Magic: 0\n",
      "Experience: 4\n",
      "\n",
      "\n",
      "Veteran Warriors Of Lagathan:\n",
      "================\n",
      " Size:    1d6\n",
      " Attack:  +8\n",
      " Defense: 18\n",
      " Range:   30 ft.\n",
      " Magic:   +0\n",
      "================\n",
      " Cost:    6400 GP\n"
     ]
    }
   ],
   "source": [
    "new_unit(\"Warriors Of Lagathan\")"
   ]
  },
  {
   "cell_type": "markdown",
   "metadata": {},
   "source": [
    "Notice how much the cost goes down for these novice ranks with otherwise matching stats."
   ]
  },
  {
   "cell_type": "code",
   "execution_count": 5,
   "metadata": {},
   "outputs": [
    {
     "name": "stdout",
     "output_type": "stream",
     "text": [
      "Size: 2\n",
      "Attack: 4\n",
      "Defense: 3\n",
      "Range: 1\n",
      "Magic: 0\n",
      "Experience: 1\n",
      "\n",
      "\n",
      "Green Warriors Of Lagathan:\n",
      "================\n",
      " Size:    1d6\n",
      " Attack:  +5\n",
      " Defense: 15\n",
      " Range:   30 ft.\n",
      " Magic:   +0\n",
      "================\n",
      " Cost:    1600 GP\n"
     ]
    }
   ],
   "source": [
    "new_unit(\"Warriors Of Lagathan\")"
   ]
  },
  {
   "cell_type": "markdown",
   "metadata": {},
   "source": [
    "Now try it yourself!"
   ]
  },
  {
   "cell_type": "code",
   "execution_count": null,
   "metadata": {},
   "outputs": [],
   "source": [
    "new_unit()"
   ]
  }
 ],
 "metadata": {
  "kernelspec": {
   "display_name": "Python [conda env:learn-env] *",
   "language": "python",
   "name": "conda-env-learn-env-py"
  },
  "language_info": {
   "codemirror_mode": {
    "name": "ipython",
    "version": 3
   },
   "file_extension": ".py",
   "mimetype": "text/x-python",
   "name": "python",
   "nbconvert_exporter": "python",
   "pygments_lexer": "ipython3",
   "version": "3.6.9"
  },
  "toc": {
   "base_numbering": 1,
   "nav_menu": {},
   "number_sections": true,
   "sideBar": true,
   "skip_h1_title": false,
   "title_cell": "Table of Contents",
   "title_sidebar": "Contents",
   "toc_cell": false,
   "toc_position": {},
   "toc_section_display": true,
   "toc_window_display": false
  },
  "varInspector": {
   "cols": {
    "lenName": 16,
    "lenType": 16,
    "lenVar": 40
   },
   "kernels_config": {
    "python": {
     "delete_cmd_postfix": "",
     "delete_cmd_prefix": "del ",
     "library": "var_list.py",
     "varRefreshCmd": "print(var_dic_list())"
    },
    "r": {
     "delete_cmd_postfix": ") ",
     "delete_cmd_prefix": "rm(",
     "library": "var_list.r",
     "varRefreshCmd": "cat(var_dic_list()) "
    }
   },
   "types_to_exclude": [
    "module",
    "function",
    "builtin_function_or_method",
    "instance",
    "_Feature"
   ],
   "window_display": false
  }
 },
 "nbformat": 4,
 "nbformat_minor": 2
}
